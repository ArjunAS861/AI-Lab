{
 "cells": [
  {
   "cell_type": "markdown",
   "metadata": {},
   "source": [
    "# Forward reasoning in First Order Logic\n",
    "-Arjun A.S\n",
    "1BM18CS019"
   ]
  },
  {
   "cell_type": "code",
   "execution_count": 1,
   "metadata": {},
   "outputs": [],
   "source": [
    "\n",
    "#Program for FORWARD REASONING\n",
    "\n",
    "import re #Regular expression module\n",
    "\n",
    "def isVariable(x):\n",
    "    return len(x) == 1 and x.islower() and x.isalpha()\n",
    "\n",
    "def getAttributes(string):\n",
    "    expr = '\\([^)]+\\)'\n",
    "    matches = re.findall(expr, string)\n",
    "    return matches\n",
    "\n",
    "def getPredicates(string):\n",
    "    expr = '([a-z~]+)\\([^&|]+\\)'\n",
    "    return re.findall(expr, string)"
   ]
  },
  {
   "cell_type": "code",
   "execution_count": 2,
   "metadata": {},
   "outputs": [],
   "source": [
    "class Fact:    \n",
    "    def __init__(self, expression):\n",
    "        self.expression = expression\n",
    "        predicate, params = self.splitExpression(expression)\n",
    "        self.predicate = predicate\n",
    "        self.params = params\n",
    "        self.result = any(self.getConstants())\n",
    "        \n",
    "    def splitExpression(self, expression):\n",
    "        predicate = getPredicates(expression)[0]\n",
    "        params = getAttributes(expression)[0].strip('()').split(',')\n",
    "        return [predicate, params]\n",
    "    \n",
    "    def getConstants(self):\n",
    "        return [None if isVariable(c) else c for c in self.params]\n",
    "    \n",
    "    def getResult(self):\n",
    "        return self.result\n",
    "    \n",
    "    def getVariables(self):\n",
    "        return [v if isVariable(v) else None for v in self.params]"
   ]
  },
  {
   "cell_type": "code",
   "execution_count": 3,
   "metadata": {},
   "outputs": [],
   "source": [
    "class Implication:\n",
    "    def __init__(self, expression):\n",
    "        self.expression = expression\n",
    "        spl = expression.split('=>')\n",
    "        self.lhs = [Fact(f) for f in spl[0].split('&')]\n",
    "        self.rhs = Fact(spl[1])\n",
    "        \n",
    "    def evaluation_implication(self, facts):\n",
    "        constants = {}\n",
    "        new_lhs = []   #facts that can prove the RHS\n",
    "        for fact in facts:\n",
    "            for clause in self.lhs:\n",
    "                if clause.predicate == fact.predicate:      #comparision btw Known facts and the implication\n",
    "                    for i, v in enumerate(clause.getVariables()):\n",
    "                        if v:\n",
    "                            constants[v] = fact.getConstants()[i]\n",
    "                    new_lhs.append(fact)\n",
    "        predicate= getPredicates(self.rhs.expression)[0] \n",
    "        attributes=str(getAttributes(self.rhs.expression)[0])\n",
    "        for key in constants:\n",
    "            if constants[key]:\n",
    "                attributes = attributes.replace(key, constants[key])\n",
    "        expr = f'{predicate}{attributes}'\n",
    "        return Fact(expr) if len(new_lhs) and all([f.getResult() for f in new_lhs]) else None"
   ]
  },
  {
   "cell_type": "code",
   "execution_count": 4,
   "metadata": {},
   "outputs": [],
   "source": [
    "class KnowledgeBase:\n",
    "    def __init__(self):\n",
    "        self.facts = set()\n",
    "        self.implications = set()\n",
    "            \n",
    "    def tell(self, e): #function to enter facts into the knowledgebase\n",
    "        if '=>' in e: \n",
    "            self.implications.add(Implication(e))\n",
    "        else:\n",
    "            self.facts.add(Fact(e))\n",
    "        for i in self.implications:\n",
    "            res = i.evaluation_implication(self.facts)\n",
    "            if res:\n",
    "                self.facts.add(res)\n",
    "\n",
    "    def ask(self, exp):  #function to query the Knowldege base\n",
    "        facts = set([f.expression for f in self.facts])\n",
    "        i = 1\n",
    "        print(f'Querying {exp}:')\n",
    "        for f in facts:\n",
    "            if Fact(f).predicate == Fact(exp).predicate:\n",
    "                print(f'\\t{i}. {f}')\n",
    "                i += 1\n",
    "    \n",
    "    def display(self):\n",
    "        print(\"All facts in Knowledge Base:\")\n",
    "        for i, f in enumerate(set([f.expression for f in self.facts])):\n",
    "            print(f'\\t{i+1}. {f}')"
   ]
  },
  {
   "cell_type": "code",
   "execution_count": 5,
   "metadata": {},
   "outputs": [],
   "source": [
    "def main():\n",
    "    kb = KnowledgeBase()\n",
    "    print(\"Enter clauses for KB: (Enter 'exit' to Stop telling the KnowledgeBase)\")\n",
    "    while True:\n",
    "        clause = input()\n",
    "        if(clause == 'exit'):\n",
    "            break\n",
    "        kb.tell(clause)\n",
    "    query = input(\"Enter Query:\")\n",
    "    kb.ask(query)\n",
    "    kb.display()"
   ]
  },
  {
   "cell_type": "code",
   "execution_count": 9,
   "metadata": {},
   "outputs": [
    {
     "name": "stdout",
     "output_type": "stream",
     "text": [
      "Enter clauses for KB: (Enter 'exit' to Stop telling the KnowledgeBase)\n",
      "food(x)=>likes(Rani,x)\n",
      "food(Peanut)\n",
      "~food(Mug)\n",
      "exit\n",
      "Enter Query:likes(Rani,Peanut)\n",
      "Querying likes(Rani,Peanut):\n",
      "\t1. likes(Rani,Peanut)\n",
      "All facts in Knowledge Base:\n",
      "\t1. ~food(Mug)\n",
      "\t2. likes(Rani,Peanut)\n",
      "\t3. food(Peanut)\n"
     ]
    }
   ],
   "source": [
    "if __name__ ==\"__main__\":\n",
    "    main()  "
   ]
  },
  {
   "cell_type": "code",
   "execution_count": 7,
   "metadata": {},
   "outputs": [],
   "source": [
    "#food(x)=>likes(Rani,x) can be written as \n",
    "# ~[food(x)]V[likes(Rani,x)]     in horn clause form , as every implication is a definite clause"
   ]
  },
  {
   "cell_type": "code",
   "execution_count": 10,
   "metadata": {},
   "outputs": [
    {
     "name": "stdout",
     "output_type": "stream",
     "text": [
      "Enter clauses for KB: (Enter 'exit' to Stop telling the KnowledgeBase)\n",
      "food(Peanut)\n",
      "~food(Mug)\n",
      "food(y)=>likes(Ram,y)\n",
      "exit\n",
      "Enter Query:likes(Rani,y)\n",
      "Querying likes(Rani,y):\n",
      "\t1. likes(Ram,Peanut)\n",
      "All facts in Knowledge Base:\n",
      "\t1. food(Peanut)\n",
      "\t2. ~food(Mug)\n",
      "\t3. likes(Ram,Peanut)\n"
     ]
    }
   ],
   "source": [
    "if __name__ ==\"__main__\":\n",
    "    main()  "
   ]
  },
  {
   "cell_type": "code",
   "execution_count": null,
   "metadata": {},
   "outputs": [],
   "source": []
  }
 ],
 "metadata": {
  "kernelspec": {
   "display_name": "Python 3",
   "language": "python",
   "name": "python3"
  },
  "language_info": {
   "codemirror_mode": {
    "name": "ipython",
    "version": 3
   },
   "file_extension": ".py",
   "mimetype": "text/x-python",
   "name": "python",
   "nbconvert_exporter": "python",
   "pygments_lexer": "ipython3",
   "version": "3.8.3"
  }
 },
 "nbformat": 4,
 "nbformat_minor": 4
}
