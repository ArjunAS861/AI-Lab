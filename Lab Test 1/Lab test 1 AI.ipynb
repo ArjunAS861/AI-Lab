{
 "cells": [
  {
   "cell_type": "markdown",
   "metadata": {},
   "source": [
    "Vacuum cleaner agent \n",
    "Environment : Location A and Loation B\n"
   ]
  },
  {
   "cell_type": "code",
   "execution_count": 1,
   "metadata": {},
   "outputs": [],
   "source": [
    "class Position:\n",
    "    def __init__(self,data,status):\n",
    "        self.data=data\n",
    "        self.status=status\n",
    "        \n",
    "        \n",
    "         \n",
    "                        \n",
    "            "
   ]
  },
  {
   "cell_type": "code",
   "execution_count": 43,
   "metadata": {},
   "outputs": [],
   "source": [
    "def clean_1(positions,start):\n",
    "    for i in positions:\n",
    "        print(f\"[{i.status}]\",end=\" \")\n",
    "    print(\"\")\n",
    "    \n",
    "    moveLeft = moveRight = False\n",
    "    for position in positions:\n",
    "        print(\"Action :\")\n",
    "        if position.data==\"A\" and start=='A':\n",
    "            if position.status==\"Clean\":\n",
    "                moveRight=True\n",
    "                print(\"  Moving Right\")\n",
    "            else:\n",
    "                print(\"  Cleaning...\")\n",
    "                print(\"  Moving Right\")\n",
    "                position.status=\"Clean\"\n",
    "            start='B'\n",
    "        \n",
    "            \n",
    "        elif position.data=='B' and start=='B':\n",
    "            if position.status==\"Clean\":\n",
    "                moveLeft=True\n",
    "                print(\"   Moving Left....\")\n",
    "            else:\n",
    "                print(\"   Cleaning....\")\n",
    "                position.status=\"Clean\"\n",
    "                print(\"   Moving Left....\")\n",
    "            start='A'\n",
    "        \n",
    "    \n",
    "            \n",
    "            "
   ]
  },
  {
   "cell_type": "code",
   "execution_count": 66,
   "metadata": {},
   "outputs": [],
   "source": [
    "import random\n",
    "def clean_2(positions):\n",
    "        position=positions[0]\n",
    "        memory={}\n",
    "        memory['A']=[]\n",
    "        memory['B']=[]\n",
    "        moveLeft = moveRight = False\n",
    "        while True:\n",
    "            if position.data==\"A\":\n",
    "                if position.status==\"Clean\":\n",
    "                    moveRight=True\n",
    "                    print(\"  Moving Right\")\n",
    "                    memory['A'].append(\"  Not Cleaned\")\n",
    "                else:\n",
    "                    print(\"Cleaning...\")\n",
    "                    position.status=\"Clean\"\n",
    "                    memory['A'].append(\"Cleaned\")\n",
    "            else:\n",
    "                if position.status==\"Clean\":\n",
    "                    moveLeft=True\n",
    "                    print(\"Moving Right....\")\n",
    "                    memory['B'].append(\"Not Cleaned\")\n",
    "                else:\n",
    "                    print(\"Cleaning....\")\n",
    "                    position.status=\"Clean\"\n",
    "                    memory['A'].append(\"Cleaned\")\n",
    "            a=random.randrange(0,2)\n",
    "            position.status=\"Dirty\"\n",
    "            if a==1:\n",
    "                position.data=\"A\"\n",
    "            else:\n",
    "                position.data=\"B\"\n",
    "            c=[]\n",
    "            \n",
    "            for loc in memory.keys():\n",
    "                a=0\n",
    "                for j in memory[loc]:\n",
    "                    if j == \"Cleaned\":\n",
    "                        a+=1\n",
    "                c.append(a)\n",
    "            if c[0]==2:\n",
    "                print(\"Already Cleaned Twice\")\n",
    "                break\n",
    "            if c[1]==2:\n",
    "                print(\"Already Cleaned Twice\")\n",
    "                break\n",
    "            \n",
    "            "
   ]
  },
  {
   "cell_type": "code",
   "execution_count": 45,
   "metadata": {},
   "outputs": [],
   "source": [
    "def main():\n",
    "    posits=[]\n",
    "   \n",
    "    print(\"Enter Status of Location A :(Clean/Dirty)\")\n",
    "    pos=Position('A',input())\n",
    "    posits.append(pos)\n",
    "    print(\"Enter Satus of Location B:(Clean/Dirty)\")\n",
    "    pos1=Position('B',input())\n",
    "    posits.append(pos1)\n",
    "    print(\"Enter Start State : \")\n",
    "    clean_1(posits,input())\n"
   ]
  },
  {
   "cell_type": "code",
   "execution_count": 46,
   "metadata": {},
   "outputs": [
    {
     "name": "stdout",
     "output_type": "stream",
     "text": [
      "Enter Status of Location A :(Clean/Dirty)\n",
      "Clean\n",
      "Enter Satus of Location B:(Clean/Dirty)\n",
      "Dirty\n",
      "Enter Start State : \n",
      "A\n",
      "[Clean] [Dirty] \n",
      "Action :\n",
      "  Moving Right\n",
      "Action :\n",
      "   Cleaning....\n",
      "   Moving Left....\n"
     ]
    }
   ],
   "source": [
    "main()"
   ]
  },
  {
   "cell_type": "code",
   "execution_count": 67,
   "metadata": {},
   "outputs": [],
   "source": [
    "def main2():\n",
    "    posits=[]\n",
    "    print(\"Enter Status of Location A :(Clean/Dirty)\")\n",
    "    pos=Position('A',input())\n",
    "    posits.append(pos)\n",
    "    print(\"Enter Satus of Location B:(Clean/Dirty)\")\n",
    "    pos1=Position('B',input())\n",
    "    posits.append(pos1)\n",
    "    print(\"Enter Start State : \")\n",
    "    clean_1(posits,input())\n",
    "    clean_2(posits)\n"
   ]
  },
  {
   "cell_type": "code",
   "execution_count": 68,
   "metadata": {},
   "outputs": [
    {
     "name": "stdout",
     "output_type": "stream",
     "text": [
      "Enter Status of Location A :(Clean/Dirty)\n",
      "Clean\n",
      "Enter Satus of Location B:(Clean/Dirty)\n",
      "Dirty\n",
      "Enter Start State : \n",
      "A\n",
      "[Clean] [Dirty] \n",
      "Action :\n",
      "  Moving Right\n",
      "Action :\n",
      "   Cleaning....\n",
      "   Moving Left....\n",
      "  Moving Right\n",
      "Cleaning...\n",
      "Cleaning...\n",
      "Already Cleaned Twice\n"
     ]
    }
   ],
   "source": [
    "main2()"
   ]
  },
  {
   "cell_type": "code",
   "execution_count": null,
   "metadata": {},
   "outputs": [],
   "source": []
  }
 ],
 "metadata": {
  "kernelspec": {
   "display_name": "Python 3",
   "language": "python",
   "name": "python3"
  },
  "language_info": {
   "codemirror_mode": {
    "name": "ipython",
    "version": 3
   },
   "file_extension": ".py",
   "mimetype": "text/x-python",
   "name": "python",
   "nbconvert_exporter": "python",
   "pygments_lexer": "ipython3",
   "version": "3.8.3"
  }
 },
 "nbformat": 4,
 "nbformat_minor": 4
}
